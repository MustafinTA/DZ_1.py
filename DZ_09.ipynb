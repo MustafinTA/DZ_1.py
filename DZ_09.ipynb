{
 "nbformat": 4,
 "nbformat_minor": 0,
 "metadata": {
  "colab": {
   "provenance": [],
   "authorship_tag": "ABX9TyO75lSaA781z5WXwp9vmrjs"
  },
  "kernelspec": {
   "name": "python3",
   "display_name": "Python 3"
  },
  "language_info": {
   "name": "python"
  }
 },
 "cells": [
  {
   "cell_type": "markdown",
   "source": [
    "Работать с файлом california_housing_train.csv, который находится в папке\n",
    "sample_data. Определить среднюю стоимость дома, где кол-во людей от 0 до 500 (population)\n",
    "\n",
    "0)longitude - долгота\n",
    "\n",
    "1)latitude - широта\n",
    "\n",
    "2)housing_median_age - медианный возраст зданий\n",
    "\n",
    "3)total_rooms - общее кол-во зданий\n",
    "\n",
    "4)total_bedrooms - Общее кол-во спален\n",
    "\n",
    "5)population - кол-во жителей\n",
    "\n",
    "6)households - кол-во семей\n",
    "\n",
    "7)median_house_value - медианная стоимость дома"
   ],
   "metadata": {
    "id": "NJrVvBXfsltQ"
   }
  },
  {
   "cell_type": "code",
   "source": [
    "import pandas as pd\n",
    "lst = pd.read_csv('sample_data/california_housing_train.csv')\n",
    "print(lst.loc[(lst['population'] > 0) & (lst['population'] < 500), ['median_house_value']])"
   ],
   "metadata": {
    "colab": {
     "base_uri": "https://localhost:8080/"
    },
    "id": "2o1ZDAotsqRU",
    "executionInfo": {
     "status": "ok",
     "timestamp": 1677399062887,
     "user_tz": -420,
     "elapsed": 306,
     "user": {
      "displayName": "Djon Devil",
      "userId": "11608382549643377021"
     }
    },
    "outputId": "4166b5c0-9ca8-4288-952e-2e4229fc1822"
   },
   "execution_count": 16,
   "outputs": [
    {
     "output_type": "stream",
     "name": "stdout",
     "text": [
      "       median_house_value\n",
      "2                 85700.0\n",
      "7                 48500.0\n",
      "17                25000.0\n",
      "19                27500.0\n",
      "21                59200.0\n",
      "...                   ...\n",
      "16944            130600.0\n",
      "16951             67500.0\n",
      "16969             60000.0\n",
      "16982            107000.0\n",
      "16994             76100.0\n",
      "\n",
      "[1601 rows x 1 columns]\n"
     ]
    }
   ]
  },
  {
   "cell_type": "markdown",
   "source": [
    "Узнать какая максимальная households в зоне минимального значения population"
   ],
   "metadata": {
    "id": "wmaGMCirwSR4"
   }
  },
  {
   "cell_type": "code",
   "source": [
    "print(lst.loc[lst['population'] == lst['population'].min(), ['households']].max())\n"
   ],
   "metadata": {
    "colab": {
     "base_uri": "https://localhost:8080/"
    },
    "id": "jsqM-FugwVHZ",
    "executionInfo": {
     "status": "ok",
     "timestamp": 1677399066968,
     "user_tz": -420,
     "elapsed": 10,
     "user": {
      "displayName": "Djon Devil",
      "userId": "11608382549643377021"
     }
    },
    "outputId": "dcc911bd-bb74-425a-a784-b3892eefa467"
   },
   "execution_count": 17,
   "outputs": [
    {
     "output_type": "stream",
     "name": "stdout",
     "text": [
      "households    4.0\n",
      "dtype: float64\n"
     ]
    }
   ]
  }
 ]
}
